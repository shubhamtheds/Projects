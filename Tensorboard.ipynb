{
 "cells": [
  {
   "cell_type": "markdown",
   "metadata": {},
   "source": [
    "# Tensorboard\n",
    "\n",
    "Let's explore the built in data visualization capabilities that come with Tensorboard.\n",
    "\n",
    "Full official tutorial available here: https://www.tensorflow.org/tensorboard/get_started\n",
    "\n",
    "## Data"
   ]
  },
  {
   "cell_type": "code",
   "execution_count": 1,
   "metadata": {},
   "outputs": [],
   "source": [
    "import pandas as pd\n",
    "import numpy as np"
   ]
  },
  {
   "cell_type": "code",
   "execution_count": 2,
   "metadata": {},
   "outputs": [],
   "source": [
    "df = pd.read_csv('../DATA/cancer_classification.csv')"
   ]
  },
  {
   "cell_type": "markdown",
   "metadata": {},
   "source": [
    "### Train Test Split"
   ]
  },
  {
   "cell_type": "code",
   "execution_count": 3,
   "metadata": {},
   "outputs": [],
   "source": [
    "X = df.drop('benign_0__mal_1',axis=1).values\n",
    "y = df['benign_0__mal_1'].values"
   ]
  },
  {
   "cell_type": "code",
   "execution_count": 4,
   "metadata": {},
   "outputs": [],
   "source": [
    "from sklearn.model_selection import train_test_split"
   ]
  },
  {
   "cell_type": "code",
   "execution_count": 5,
   "metadata": {},
   "outputs": [],
   "source": [
    "X_train, X_test, y_train, y_test = train_test_split(X,y,test_size=0.25,random_state=101)"
   ]
  },
  {
   "cell_type": "markdown",
   "metadata": {},
   "source": [
    "\n",
    "### Scaling Data"
   ]
  },
  {
   "cell_type": "code",
   "execution_count": 6,
   "metadata": {},
   "outputs": [],
   "source": [
    "from sklearn.preprocessing import MinMaxScaler"
   ]
  },
  {
   "cell_type": "code",
   "execution_count": 7,
   "metadata": {},
   "outputs": [],
   "source": [
    "scaler = MinMaxScaler()"
   ]
  },
  {
   "cell_type": "code",
   "execution_count": 8,
   "metadata": {},
   "outputs": [
    {
     "data": {
      "text/plain": [
       "MinMaxScaler()"
      ]
     },
     "execution_count": 8,
     "metadata": {},
     "output_type": "execute_result"
    }
   ],
   "source": [
    "scaler.fit(X_train)"
   ]
  },
  {
   "cell_type": "code",
   "execution_count": 9,
   "metadata": {},
   "outputs": [],
   "source": [
    "X_train = scaler.transform(X_train)\n",
    "X_test = scaler.transform(X_test)"
   ]
  },
  {
   "cell_type": "markdown",
   "metadata": {},
   "source": [
    "## Creating the Model"
   ]
  },
  {
   "cell_type": "code",
   "execution_count": 10,
   "metadata": {},
   "outputs": [],
   "source": [
    "import tensorflow as tf\n",
    "from tensorflow.keras.models import Sequential\n",
    "from tensorflow.keras.layers import Dense, Activation,Dropout"
   ]
  },
  {
   "cell_type": "code",
   "execution_count": 11,
   "metadata": {},
   "outputs": [],
   "source": [
    "from tensorflow.keras.callbacks import EarlyStopping,TensorBoard"
   ]
  },
  {
   "cell_type": "code",
   "execution_count": 12,
   "metadata": {},
   "outputs": [],
   "source": [
    "early_stop = EarlyStopping(monitor='val_loss', mode='min', verbose=1, patience=25)"
   ]
  },
  {
   "cell_type": "code",
   "execution_count": 13,
   "metadata": {},
   "outputs": [
    {
     "data": {
      "text/plain": [
       "'C:\\\\Users\\\\rajka\\\\Downloads\\\\TensorFlow_FILES\\\\ANNs'"
      ]
     },
     "execution_count": 13,
     "metadata": {},
     "output_type": "execute_result"
    }
   ],
   "source": [
    "pwd"
   ]
  },
  {
   "cell_type": "markdown",
   "metadata": {},
   "source": [
    "## Creating the Tensorboard Callback\n",
    "\n",
    "TensorBoard is a visualization tool provided with TensorFlow.\n",
    "\n",
    "This callback logs events for TensorBoard, including:\n",
    "* Metrics summary plots\n",
    "* Training graph visualization\n",
    "* Activation histograms\n",
    "* Sampled profiling\n",
    "\n",
    "If you have installed TensorFlow with pip, you should be able\n",
    "to launch TensorBoard from the command line:\n",
    "\n",
    "```sh\n",
    "tensorboard --logdir=path_to_your_logs\n",
    "```\n",
    "\n",
    "You can find more information about TensorBoard\n",
    "[here](https://www.tensorflow.org/tensorboard/).\n",
    "\n",
    "    Arguments:\n",
    "        log_dir: the path of the directory where to save the log files to be\n",
    "          parsed by TensorBoard.\n",
    "        histogram_freq: frequency (in epochs) at which to compute activation and\n",
    "          weight histograms for the layers of the model. If set to 0, histograms\n",
    "          won't be computed. Validation data (or split) must be specified for\n",
    "          histogram visualizations.\n",
    "        write_graph: whether to visualize the graph in TensorBoard. The log file\n",
    "          can become quite large when write_graph is set to True.\n",
    "        write_images: whether to write model weights to visualize as image in\n",
    "          TensorBoard.\n",
    "        update_freq: `'batch'` or `'epoch'` or integer. When using `'batch'`,\n",
    "          writes the losses and metrics to TensorBoard after each batch. The same\n",
    "          applies for `'epoch'`. If using an integer, let's say `1000`, the\n",
    "          callback will write the metrics and losses to TensorBoard every 1000\n",
    "          samples. Note that writing too frequently to TensorBoard can slow down\n",
    "          your training.\n",
    "        profile_batch: Profile the batch to sample compute characteristics. By\n",
    "          default, it will profile the second batch. Set profile_batch=0 to\n",
    "          disable profiling. Must run in TensorFlow eager mode.\n",
    "        embeddings_freq: frequency (in epochs) at which embedding layers will\n",
    "          be visualized. If set to 0, embeddings won't be visualized.\n",
    "       "
   ]
  },
  {
   "cell_type": "code",
   "execution_count": 14,
   "metadata": {},
   "outputs": [],
   "source": [
    "from datetime import datetime"
   ]
  },
  {
   "cell_type": "code",
   "execution_count": 15,
   "metadata": {},
   "outputs": [
    {
     "data": {
      "text/plain": [
       "'2022-04-18--1820'"
      ]
     },
     "execution_count": 15,
     "metadata": {},
     "output_type": "execute_result"
    }
   ],
   "source": [
    "datetime.now().strftime(\"%Y-%m-%d--%H%M\")"
   ]
  },
  {
   "cell_type": "code",
   "execution_count": 16,
   "metadata": {},
   "outputs": [],
   "source": [
    "# WINDOWS: Use \"logs\\\\fit\"\n",
    "# MACOS/LINUX: Use \"logs\\fit\"\n",
    "\n",
    "log_directory = 'logs\\\\fit'\n",
    "\n",
    "# OPTIONAL: ADD A TIMESTAMP FOR UNIQUE FOLDER\n",
    "# timestamp = datetime.now().strftime(\"%Y-%m-%d--%H%M\")\n",
    "# log_directory = log_directory + '\\\\' + timestamp\n",
    "\n",
    "\n",
    "board = TensorBoard(log_dir=log_directory,histogram_freq=1,\n",
    "    write_graph=True,\n",
    "    write_images=True,\n",
    "    update_freq='epoch',\n",
    "    profile_batch=2,\n",
    "    embeddings_freq=1)"
   ]
  },
  {
   "cell_type": "markdown",
   "metadata": {},
   "source": [
    "Now create the model layers:"
   ]
  },
  {
   "cell_type": "code",
   "execution_count": 17,
   "metadata": {},
   "outputs": [],
   "source": [
    "model = Sequential()\n",
    "model.add(Dense(units=30,activation='relu'))\n",
    "model.add(Dropout(0.5))\n",
    "model.add(Dense(units=15,activation='relu'))\n",
    "model.add(Dropout(0.5))\n",
    "model.add(Dense(units=1,activation='sigmoid'))\n",
    "model.compile(loss='binary_crossentropy', optimizer='adam')"
   ]
  },
  {
   "cell_type": "markdown",
   "metadata": {},
   "source": [
    "## Train the Model"
   ]
  },
  {
   "cell_type": "code",
   "execution_count": 18,
   "metadata": {},
   "outputs": [
    {
     "name": "stdout",
     "output_type": "stream",
     "text": [
      "Epoch 1/600\n",
      "14/14 [==============================] - 1s 14ms/step - loss: 0.7158 - val_loss: 0.6848\n",
      "Epoch 2/600\n",
      "14/14 [==============================] - 0s 6ms/step - loss: 0.6897 - val_loss: 0.6723\n",
      "Epoch 3/600\n",
      "14/14 [==============================] - 0s 8ms/step - loss: 0.6767 - val_loss: 0.6556\n",
      "Epoch 4/600\n",
      "14/14 [==============================] - 0s 7ms/step - loss: 0.6728 - val_loss: 0.6401\n",
      "Epoch 5/600\n",
      "14/14 [==============================] - 0s 6ms/step - loss: 0.6343 - val_loss: 0.6189\n",
      "Epoch 6/600\n",
      "14/14 [==============================] - 0s 6ms/step - loss: 0.6323 - val_loss: 0.5961\n",
      "Epoch 7/600\n",
      "14/14 [==============================] - 0s 8ms/step - loss: 0.6059 - val_loss: 0.5653\n",
      "Epoch 8/600\n",
      "14/14 [==============================] - 0s 6ms/step - loss: 0.5775 - val_loss: 0.5329\n",
      "Epoch 9/600\n",
      "14/14 [==============================] - 0s 6ms/step - loss: 0.5671 - val_loss: 0.5037\n",
      "Epoch 10/600\n",
      "14/14 [==============================] - 0s 6ms/step - loss: 0.5563 - val_loss: 0.4816\n",
      "Epoch 11/600\n",
      "14/14 [==============================] - 0s 6ms/step - loss: 0.5403 - val_loss: 0.4571\n",
      "Epoch 12/600\n",
      "14/14 [==============================] - 0s 6ms/step - loss: 0.5162 - val_loss: 0.4328\n",
      "Epoch 13/600\n",
      "14/14 [==============================] - 0s 6ms/step - loss: 0.4886 - val_loss: 0.3993\n",
      "Epoch 14/600\n",
      "14/14 [==============================] - 0s 6ms/step - loss: 0.4715 - val_loss: 0.3742\n",
      "Epoch 15/600\n",
      "14/14 [==============================] - 0s 6ms/step - loss: 0.4239 - val_loss: 0.3480\n",
      "Epoch 16/600\n",
      "14/14 [==============================] - 0s 6ms/step - loss: 0.4349 - val_loss: 0.3247\n",
      "Epoch 17/600\n",
      "14/14 [==============================] - 0s 6ms/step - loss: 0.4225 - val_loss: 0.3097\n",
      "Epoch 18/600\n",
      "14/14 [==============================] - 0s 6ms/step - loss: 0.3803 - val_loss: 0.2982\n",
      "Epoch 19/600\n",
      "14/14 [==============================] - 0s 6ms/step - loss: 0.3804 - val_loss: 0.2784\n",
      "Epoch 20/600\n",
      "14/14 [==============================] - 0s 6ms/step - loss: 0.3667 - val_loss: 0.2605\n",
      "Epoch 21/600\n",
      "14/14 [==============================] - 0s 6ms/step - loss: 0.3595 - val_loss: 0.2444\n",
      "Epoch 22/600\n",
      "14/14 [==============================] - 0s 6ms/step - loss: 0.3817 - val_loss: 0.2432\n",
      "Epoch 23/600\n",
      "14/14 [==============================] - 0s 6ms/step - loss: 0.3084 - val_loss: 0.2250\n",
      "Epoch 24/600\n",
      "14/14 [==============================] - 0s 6ms/step - loss: 0.3048 - val_loss: 0.2188\n",
      "Epoch 25/600\n",
      "14/14 [==============================] - 0s 6ms/step - loss: 0.3029 - val_loss: 0.2079\n",
      "Epoch 26/600\n",
      "14/14 [==============================] - 0s 6ms/step - loss: 0.3260 - val_loss: 0.2086\n",
      "Epoch 27/600\n",
      "14/14 [==============================] - 0s 6ms/step - loss: 0.3176 - val_loss: 0.1982\n",
      "Epoch 28/600\n",
      "14/14 [==============================] - 0s 6ms/step - loss: 0.2935 - val_loss: 0.1907\n",
      "Epoch 29/600\n",
      "14/14 [==============================] - 0s 6ms/step - loss: 0.2900 - val_loss: 0.1918\n",
      "Epoch 30/600\n",
      "14/14 [==============================] - 0s 7ms/step - loss: 0.2735 - val_loss: 0.1798\n",
      "Epoch 31/600\n",
      "14/14 [==============================] - 0s 6ms/step - loss: 0.2825 - val_loss: 0.1747\n",
      "Epoch 32/600\n",
      "14/14 [==============================] - 0s 6ms/step - loss: 0.2488 - val_loss: 0.1745\n",
      "Epoch 33/600\n",
      "14/14 [==============================] - 0s 6ms/step - loss: 0.2825 - val_loss: 0.1702\n",
      "Epoch 34/600\n",
      "14/14 [==============================] - 0s 6ms/step - loss: 0.2622 - val_loss: 0.1613\n",
      "Epoch 35/600\n",
      "14/14 [==============================] - 0s 6ms/step - loss: 0.2396 - val_loss: 0.1578\n",
      "Epoch 36/600\n",
      "14/14 [==============================] - 0s 6ms/step - loss: 0.2348 - val_loss: 0.1563\n",
      "Epoch 37/600\n",
      "14/14 [==============================] - 0s 6ms/step - loss: 0.2316 - val_loss: 0.1551\n",
      "Epoch 38/600\n",
      "14/14 [==============================] - 0s 6ms/step - loss: 0.2490 - val_loss: 0.1551\n",
      "Epoch 39/600\n",
      "14/14 [==============================] - 0s 6ms/step - loss: 0.2256 - val_loss: 0.1449\n",
      "Epoch 40/600\n",
      "14/14 [==============================] - 0s 6ms/step - loss: 0.2108 - val_loss: 0.1422\n",
      "Epoch 41/600\n",
      "14/14 [==============================] - 0s 6ms/step - loss: 0.2163 - val_loss: 0.1401\n",
      "Epoch 42/600\n",
      "14/14 [==============================] - 0s 6ms/step - loss: 0.2067 - val_loss: 0.1361\n",
      "Epoch 43/600\n",
      "14/14 [==============================] - 0s 7ms/step - loss: 0.1936 - val_loss: 0.1441\n",
      "Epoch 44/600\n",
      "14/14 [==============================] - 0s 6ms/step - loss: 0.2029 - val_loss: 0.1309\n",
      "Epoch 45/600\n",
      "14/14 [==============================] - 0s 6ms/step - loss: 0.1922 - val_loss: 0.1274\n",
      "Epoch 46/600\n",
      "14/14 [==============================] - 0s 7ms/step - loss: 0.2043 - val_loss: 0.1315\n",
      "Epoch 47/600\n",
      "14/14 [==============================] - 0s 6ms/step - loss: 0.1969 - val_loss: 0.1325\n",
      "Epoch 48/600\n",
      "14/14 [==============================] - 0s 6ms/step - loss: 0.1719 - val_loss: 0.1303\n",
      "Epoch 49/600\n",
      "14/14 [==============================] - 0s 6ms/step - loss: 0.1722 - val_loss: 0.1357\n",
      "Epoch 50/600\n",
      "14/14 [==============================] - 0s 6ms/step - loss: 0.1973 - val_loss: 0.1249\n",
      "Epoch 51/600\n",
      "14/14 [==============================] - 0s 6ms/step - loss: 0.1755 - val_loss: 0.1228\n",
      "Epoch 52/600\n",
      "14/14 [==============================] - 0s 6ms/step - loss: 0.1750 - val_loss: 0.1247\n",
      "Epoch 53/600\n",
      "14/14 [==============================] - 0s 7ms/step - loss: 0.1645 - val_loss: 0.1320\n",
      "Epoch 54/600\n",
      "14/14 [==============================] - 0s 6ms/step - loss: 0.1621 - val_loss: 0.1200\n",
      "Epoch 55/600\n",
      "14/14 [==============================] - 0s 6ms/step - loss: 0.1672 - val_loss: 0.1182\n",
      "Epoch 56/600\n",
      "14/14 [==============================] - 0s 6ms/step - loss: 0.1633 - val_loss: 0.1184\n",
      "Epoch 57/600\n",
      "14/14 [==============================] - 0s 6ms/step - loss: 0.1647 - val_loss: 0.1226\n",
      "Epoch 58/600\n",
      "14/14 [==============================] - 0s 6ms/step - loss: 0.1489 - val_loss: 0.1130\n",
      "Epoch 59/600\n",
      "14/14 [==============================] - 0s 6ms/step - loss: 0.1393 - val_loss: 0.1228\n",
      "Epoch 60/600\n",
      "14/14 [==============================] - 0s 6ms/step - loss: 0.1784 - val_loss: 0.1175\n",
      "Epoch 61/600\n",
      "14/14 [==============================] - 0s 6ms/step - loss: 0.1457 - val_loss: 0.1159\n",
      "Epoch 62/600\n",
      "14/14 [==============================] - 0s 6ms/step - loss: 0.1624 - val_loss: 0.1108\n",
      "Epoch 63/600\n",
      "14/14 [==============================] - 0s 6ms/step - loss: 0.1664 - val_loss: 0.1124\n",
      "Epoch 64/600\n",
      "14/14 [==============================] - 0s 6ms/step - loss: 0.1420 - val_loss: 0.1176\n",
      "Epoch 65/600\n",
      "14/14 [==============================] - 0s 6ms/step - loss: 0.1414 - val_loss: 0.1183\n",
      "Epoch 66/600\n",
      "14/14 [==============================] - 0s 6ms/step - loss: 0.1483 - val_loss: 0.1094\n",
      "Epoch 67/600\n",
      "14/14 [==============================] - 0s 6ms/step - loss: 0.1726 - val_loss: 0.1225\n",
      "Epoch 68/600\n",
      "14/14 [==============================] - 0s 6ms/step - loss: 0.1701 - val_loss: 0.1093\n",
      "Epoch 69/600\n",
      "14/14 [==============================] - 0s 6ms/step - loss: 0.1365 - val_loss: 0.1098\n",
      "Epoch 70/600\n",
      "14/14 [==============================] - 0s 6ms/step - loss: 0.1526 - val_loss: 0.1152\n",
      "Epoch 71/600\n",
      "14/14 [==============================] - 0s 6ms/step - loss: 0.1311 - val_loss: 0.1077\n",
      "Epoch 72/600\n",
      "14/14 [==============================] - 0s 6ms/step - loss: 0.1722 - val_loss: 0.1097\n",
      "Epoch 73/600\n",
      "14/14 [==============================] - 0s 6ms/step - loss: 0.1342 - val_loss: 0.1129\n",
      "Epoch 74/600\n",
      "14/14 [==============================] - 0s 6ms/step - loss: 0.1412 - val_loss: 0.1153\n",
      "Epoch 75/600\n",
      "14/14 [==============================] - 0s 6ms/step - loss: 0.1394 - val_loss: 0.1047\n",
      "Epoch 76/600\n",
      "14/14 [==============================] - 0s 7ms/step - loss: 0.1194 - val_loss: 0.1050\n",
      "Epoch 77/600\n",
      "14/14 [==============================] - 0s 5ms/step - loss: 0.1140 - val_loss: 0.1034\n",
      "Epoch 78/600\n",
      "14/14 [==============================] - 0s 6ms/step - loss: 0.1148 - val_loss: 0.1119\n",
      "Epoch 79/600\n",
      "14/14 [==============================] - 0s 6ms/step - loss: 0.1321 - val_loss: 0.1142\n",
      "Epoch 80/600\n",
      "14/14 [==============================] - 0s 6ms/step - loss: 0.1278 - val_loss: 0.1073\n",
      "Epoch 81/600\n",
      "14/14 [==============================] - 0s 6ms/step - loss: 0.1283 - val_loss: 0.1080\n",
      "Epoch 82/600\n",
      "14/14 [==============================] - 0s 6ms/step - loss: 0.0964 - val_loss: 0.1067\n",
      "Epoch 83/600\n"
     ]
    },
    {
     "name": "stdout",
     "output_type": "stream",
     "text": [
      "14/14 [==============================] - 0s 6ms/step - loss: 0.1503 - val_loss: 0.1062\n",
      "Epoch 84/600\n",
      "14/14 [==============================] - 0s 6ms/step - loss: 0.1275 - val_loss: 0.1153\n",
      "Epoch 85/600\n",
      "14/14 [==============================] - 0s 6ms/step - loss: 0.1369 - val_loss: 0.1029\n",
      "Epoch 86/600\n",
      "14/14 [==============================] - 0s 6ms/step - loss: 0.1140 - val_loss: 0.1231\n",
      "Epoch 87/600\n",
      "14/14 [==============================] - 0s 6ms/step - loss: 0.1098 - val_loss: 0.1079\n",
      "Epoch 88/600\n",
      "14/14 [==============================] - 0s 6ms/step - loss: 0.1233 - val_loss: 0.1029\n",
      "Epoch 89/600\n",
      "14/14 [==============================] - 0s 6ms/step - loss: 0.0985 - val_loss: 0.1078\n",
      "Epoch 90/600\n",
      "14/14 [==============================] - 0s 6ms/step - loss: 0.1216 - val_loss: 0.1132\n",
      "Epoch 91/600\n",
      "14/14 [==============================] - 0s 6ms/step - loss: 0.1116 - val_loss: 0.1191\n",
      "Epoch 92/600\n",
      "14/14 [==============================] - 0s 6ms/step - loss: 0.1286 - val_loss: 0.1039\n",
      "Epoch 93/600\n",
      "14/14 [==============================] - 0s 6ms/step - loss: 0.1098 - val_loss: 0.1094\n",
      "Epoch 94/600\n",
      "14/14 [==============================] - 0s 6ms/step - loss: 0.1330 - val_loss: 0.1078\n",
      "Epoch 95/600\n",
      "14/14 [==============================] - 0s 6ms/step - loss: 0.1229 - val_loss: 0.1038\n",
      "Epoch 96/600\n",
      "14/14 [==============================] - 0s 6ms/step - loss: 0.1171 - val_loss: 0.1048\n",
      "Epoch 97/600\n",
      "14/14 [==============================] - 0s 6ms/step - loss: 0.1107 - val_loss: 0.1047\n",
      "Epoch 98/600\n",
      "14/14 [==============================] - 0s 6ms/step - loss: 0.1199 - val_loss: 0.0984\n",
      "Epoch 99/600\n",
      "14/14 [==============================] - 0s 6ms/step - loss: 0.1251 - val_loss: 0.1061\n",
      "Epoch 100/600\n",
      "14/14 [==============================] - 0s 6ms/step - loss: 0.1008 - val_loss: 0.1167\n",
      "Epoch 101/600\n",
      "14/14 [==============================] - 0s 6ms/step - loss: 0.1176 - val_loss: 0.0979\n",
      "Epoch 102/600\n",
      "14/14 [==============================] - 0s 6ms/step - loss: 0.1183 - val_loss: 0.1317\n",
      "Epoch 103/600\n",
      "14/14 [==============================] - 0s 5ms/step - loss: 0.1191 - val_loss: 0.1033\n",
      "Epoch 104/600\n",
      "14/14 [==============================] - 0s 6ms/step - loss: 0.1104 - val_loss: 0.1063\n",
      "Epoch 105/600\n",
      "14/14 [==============================] - 0s 6ms/step - loss: 0.0984 - val_loss: 0.1100\n",
      "Epoch 106/600\n",
      "14/14 [==============================] - 0s 6ms/step - loss: 0.0883 - val_loss: 0.1099\n",
      "Epoch 107/600\n",
      "14/14 [==============================] - 0s 6ms/step - loss: 0.1215 - val_loss: 0.1214\n",
      "Epoch 108/600\n",
      "14/14 [==============================] - 0s 6ms/step - loss: 0.1040 - val_loss: 0.1115\n",
      "Epoch 109/600\n",
      "14/14 [==============================] - 0s 6ms/step - loss: 0.0989 - val_loss: 0.1022\n",
      "Epoch 110/600\n",
      "14/14 [==============================] - 0s 6ms/step - loss: 0.1001 - val_loss: 0.1009\n",
      "Epoch 111/600\n",
      "14/14 [==============================] - 0s 6ms/step - loss: 0.0991 - val_loss: 0.1172\n",
      "Epoch 112/600\n",
      "14/14 [==============================] - 0s 6ms/step - loss: 0.1119 - val_loss: 0.1213\n",
      "Epoch 113/600\n",
      "14/14 [==============================] - 0s 6ms/step - loss: 0.0947 - val_loss: 0.1117\n",
      "Epoch 114/600\n",
      "14/14 [==============================] - 0s 6ms/step - loss: 0.0970 - val_loss: 0.1055\n",
      "Epoch 115/600\n",
      "14/14 [==============================] - 0s 6ms/step - loss: 0.1004 - val_loss: 0.1081\n",
      "Epoch 116/600\n",
      "14/14 [==============================] - 0s 6ms/step - loss: 0.0946 - val_loss: 0.1058\n",
      "Epoch 117/600\n",
      "14/14 [==============================] - 0s 6ms/step - loss: 0.1041 - val_loss: 0.1113\n",
      "Epoch 118/600\n",
      "14/14 [==============================] - 0s 6ms/step - loss: 0.1007 - val_loss: 0.1166\n",
      "Epoch 119/600\n",
      "14/14 [==============================] - 0s 6ms/step - loss: 0.0920 - val_loss: 0.1047\n",
      "Epoch 120/600\n",
      "14/14 [==============================] - 0s 5ms/step - loss: 0.0945 - val_loss: 0.1052\n",
      "Epoch 121/600\n",
      "14/14 [==============================] - 0s 5ms/step - loss: 0.0800 - val_loss: 0.1101\n",
      "Epoch 122/600\n",
      "14/14 [==============================] - 0s 6ms/step - loss: 0.0916 - val_loss: 0.1070\n",
      "Epoch 123/600\n",
      "14/14 [==============================] - 0s 6ms/step - loss: 0.1104 - val_loss: 0.1082\n",
      "Epoch 124/600\n",
      "14/14 [==============================] - 0s 5ms/step - loss: 0.0966 - val_loss: 0.1078\n",
      "Epoch 125/600\n",
      "14/14 [==============================] - 0s 6ms/step - loss: 0.0734 - val_loss: 0.1022\n",
      "Epoch 126/600\n",
      "14/14 [==============================] - 0s 6ms/step - loss: 0.0862 - val_loss: 0.1017\n",
      "Epoch 126: early stopping\n"
     ]
    },
    {
     "data": {
      "text/plain": [
       "<keras.callbacks.History at 0x15466328f40>"
      ]
     },
     "execution_count": 18,
     "metadata": {},
     "output_type": "execute_result"
    }
   ],
   "source": [
    "model.fit(x=X_train, \n",
    "          y=y_train, \n",
    "          epochs=600,\n",
    "          validation_data=(X_test, y_test), verbose=1,\n",
    "          callbacks=[early_stop,board]\n",
    "          )"
   ]
  },
  {
   "cell_type": "markdown",
   "metadata": {},
   "source": [
    "# Running Tensorboard\n"
   ]
  },
  {
   "cell_type": "markdown",
   "metadata": {},
   "source": [
    "## Running through the Command Line\n",
    "\n",
    "**Watch video to see how to run Tensorboard through a command line call.**"
   ]
  },
  {
   "cell_type": "markdown",
   "metadata": {},
   "source": [
    "Tensorboard will run locally in your browser at [http://localhost:6006/](http://localhost:6006/)\n"
   ]
  },
  {
   "cell_type": "code",
   "execution_count": 19,
   "metadata": {},
   "outputs": [
    {
     "name": "stdout",
     "output_type": "stream",
     "text": [
      "logs\\fit\n"
     ]
    }
   ],
   "source": [
    "print(log_directory)"
   ]
  },
  {
   "cell_type": "code",
   "execution_count": 20,
   "metadata": {},
   "outputs": [
    {
     "data": {
      "text/plain": [
       "'C:\\\\Users\\\\rajka\\\\Downloads\\\\TensorFlow_FILES\\\\ANNs'"
      ]
     },
     "execution_count": 20,
     "metadata": {},
     "output_type": "execute_result"
    }
   ],
   "source": [
    "pwd"
   ]
  },
  {
   "cell_type": "markdown",
   "metadata": {},
   "source": [
    "### Use cd at your command line to change directory to the file path reported back by pwd or your current .py file location.\n",
    "### Then run this code at your command line or terminal"
   ]
  },
  {
   "cell_type": "code",
   "execution_count": 21,
   "metadata": {},
   "outputs": [],
   "source": [
    "#tensorboard --logdir logs\\fit "
   ]
  },
  {
   "cell_type": "code",
   "execution_count": null,
   "metadata": {},
   "outputs": [],
   "source": []
  }
 ],
 "metadata": {
  "kernelspec": {
   "display_name": "Python 3 (ipykernel)",
   "language": "python",
   "name": "python3"
  },
  "language_info": {
   "codemirror_mode": {
    "name": "ipython",
    "version": 3
   },
   "file_extension": ".py",
   "mimetype": "text/x-python",
   "name": "python",
   "nbconvert_exporter": "python",
   "pygments_lexer": "ipython3",
   "version": "3.9.11"
  },
  "varInspector": {
   "cols": {
    "lenName": 16,
    "lenType": 16,
    "lenVar": 40
   },
   "kernels_config": {
    "python": {
     "delete_cmd_postfix": "",
     "delete_cmd_prefix": "del ",
     "library": "var_list.py",
     "varRefreshCmd": "print(var_dic_list())"
    },
    "r": {
     "delete_cmd_postfix": ") ",
     "delete_cmd_prefix": "rm(",
     "library": "var_list.r",
     "varRefreshCmd": "cat(var_dic_list()) "
    }
   },
   "types_to_exclude": [
    "module",
    "function",
    "builtin_function_or_method",
    "instance",
    "_Feature"
   ],
   "window_display": false
  }
 },
 "nbformat": 4,
 "nbformat_minor": 2
}
